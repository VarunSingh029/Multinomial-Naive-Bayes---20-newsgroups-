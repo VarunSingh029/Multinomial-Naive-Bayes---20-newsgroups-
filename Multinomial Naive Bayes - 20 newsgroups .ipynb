{
 "cells": [
  {
   "cell_type": "code",
   "execution_count": 1,
   "metadata": {},
   "outputs": [],
   "source": [
    "import sklearn.datasets as skd\n",
    "from sklearn.model_selection import train_test_split\n",
    "import numpy as np\n",
    "import pandas as pd\n",
    "import matplotlib.pyplot as plt\n",
    "from sklearn.naive_bayes import MultinomialNB\n",
    "from sklearn.metrics import confusion_matrix, accuracy_score "
   ]
  },
  {
   "cell_type": "code",
   "execution_count": null,
   "metadata": {},
   "outputs": [],
   "source": [
    "# importing all the document of all classes in 'news' variable\n",
    "news = skd.load_files('20newsgroups', encoding = 'ISO-8859-1')"
   ]
  },
  {
   "cell_type": "code",
   "execution_count": 5,
   "metadata": {},
   "outputs": [
    {
     "data": {
      "text/plain": [
       "['DESCR', 'data', 'filenames', 'target', 'target_names']"
      ]
     },
     "execution_count": 5,
     "metadata": {},
     "output_type": "execute_result"
    }
   ],
   "source": [
    "dir(news)"
   ]
  },
  {
   "cell_type": "code",
   "execution_count": 6,
   "metadata": {},
   "outputs": [
    {
     "data": {
      "text/plain": [
       "['alt.atheism',\n",
       " 'comp.graphics',\n",
       " 'comp.os.ms-windows.misc',\n",
       " 'comp.sys.ibm.pc.hardware',\n",
       " 'comp.sys.mac.hardware',\n",
       " 'comp.windows.x',\n",
       " 'misc.forsale',\n",
       " 'rec.autos',\n",
       " 'rec.motorcycles',\n",
       " 'rec.sport.baseball',\n",
       " 'rec.sport.hockey',\n",
       " 'sci.crypt',\n",
       " 'sci.electronics',\n",
       " 'sci.med',\n",
       " 'sci.space',\n",
       " 'soc.religion.christian',\n",
       " 'talk.politics.guns',\n",
       " 'talk.politics.mideast',\n",
       " 'talk.politics.misc',\n",
       " 'talk.religion.misc']"
      ]
     },
     "execution_count": 6,
     "metadata": {},
     "output_type": "execute_result"
    }
   ],
   "source": [
    "# printing all classes in the 20 newsgroup dataset\n",
    "news.target_names"
   ]
  },
  {
   "cell_type": "code",
   "execution_count": 7,
   "metadata": {},
   "outputs": [],
   "source": [
    "# splitting the dataset into training and testing data\n",
    "x_train, x_test, y_train, y_test = train_test_split(news.data, news.target, random_state = 0)"
   ]
  },
  {
   "cell_type": "code",
   "execution_count": 8,
   "metadata": {},
   "outputs": [
    {
     "name": "stdout",
     "output_type": "stream",
     "text": [
      "x_train : 14997\n",
      "x_test : 5000\n",
      "y_train : 14997\n",
      "y_test : 5000\n"
     ]
    }
   ],
   "source": [
    "# printing the length of x_train, x_test, y_train, y_test\n",
    "print(\"x_train :\", len(x_train))\n",
    "print(\"x_test :\", len(x_test))\n",
    "print(\"y_train :\", len(y_train))\n",
    "print(\"y_test :\", len(y_test))"
   ]
  },
  {
   "cell_type": "code",
   "execution_count": 9,
   "metadata": {},
   "outputs": [
    {
     "data": {
      "text/plain": [
       "102331"
      ]
     },
     "execution_count": 9,
     "metadata": {},
     "output_type": "execute_result"
    }
   ],
   "source": [
    "# making vocabulary of words present in x_train along with their respective counts\n",
    "vocabulary = {}\n",
    "for x in x_train:\n",
    "    splitted_x = \"\".join((char.lower() if char.isalpha() else \" \") for char in x).split()\n",
    "    #print(splitted_x)\n",
    "    for s in splitted_x:\n",
    "        if s in vocabulary:\n",
    "            vocabulary[s] += 1\n",
    "        else:\n",
    "            vocabulary[s] = 1\n",
    "len(vocabulary)"
   ]
  },
  {
   "cell_type": "code",
   "execution_count": 10,
   "metadata": {},
   "outputs": [
    {
     "data": {
      "text/plain": [
       "195"
      ]
     },
     "execution_count": 10,
     "metadata": {},
     "output_type": "execute_result"
    }
   ],
   "source": [
    "# stopwords that often occur in every documnet and are thus not useful in predictions\n",
    "stopwords = ['a', 'about', 'above', 'after', 'again', 'against', 'all', 'am', 'an', 'and', 'any', 'are', 'arent', 'as', 'at',\n",
    " 'be', 'because', 'been', 'before', 'being', 'below', 'between', 'both', 'but', 'by', \n",
    " 'can', 'cant', 'cannot', 'could', 'couldnt', 'did', 'didnt', 'do', 'does', 'doesnt', 'doing', 'dont', 'down', 'during',\n",
    " 'each', 'few', 'for', 'from', 'further', 'had', 'hadnt', 'has', 'hasnt', 'have', 'havent', 'having', 'he', 'hed', 'hell',\n",
    " 'hes', 'her', 'here', 'heres', 'hers', 'herself', 'him', 'himself', 'his', 'how', 'hows',\n",
    " 'i', 'id', 'ill', 'im', 'ive', 'if', 'in', 'into', 'is', 'isnt', 'it', 'its', 'its', 'itself',\n",
    " 'lets', 'me', 'more', 'most', 'mustnt', 'my', 'myself',\n",
    " 'no', 'nor', 'not', 'of', 'off', 'on', 'once', 'only', 'or', 'other', 'ought', 'our', 'ours' 'ourselves', 'out', 'over', 'own',\n",
    " 'same', 'shant', 'she', 'shed', 'shell', 'shes', 'should', 'shouldnt', 'so', 'some', 'such', \n",
    " 'than', 'that', 'the', 'their', 'theirs', 'them', 'themselves', 'then', 'there', 'theres', 'these', 'they', 'theyd', \n",
    " 'theyll', 'theyre', 'theyve', 'this', 'those', 'through', 'to', 'too', 'under', 'until', 'up', 'very', \n",
    " 'was', 'wasnt', 'we', 'wed', 'well', 'weve', 'were', 'werent', 'what', 'whats', 'when', 'whens', 'where',\n",
    " 'wheres', 'which', 'while', 'who', 'whos', 'whom', 'why', 'whys','will', 'with', 'wont', 'would', 'wouldnt', \n",
    " 'you', 'youd', 'youll', 'youre', 'youve', 'your', 'yours', 'yourself', 'yourselves', \n",
    " 'one', 'two', 'three', 'four', 'five', 'six', 'seven', 'eight', 'nine', 'ten', 'hundred', 'thousand', '1st', '2nd', '3rd',\n",
    " '4th', '5th', '6th', '7th', '8th', '9th', '10th']\n",
    "len(stopwords)"
   ]
  },
  {
   "cell_type": "code",
   "execution_count": 11,
   "metadata": {},
   "outputs": [],
   "source": [
    "# removing stop words from vocabulary\n",
    "for s_word in stopwords:\n",
    "    if s_word in vocabulary:\n",
    "        del vocabulary[s_word]"
   ]
  },
  {
   "cell_type": "code",
   "execution_count": 12,
   "metadata": {},
   "outputs": [],
   "source": [
    "# splitting the vocabulary into a list of words and frequencies\n",
    "words = []\n",
    "freq = []\n",
    "for i in vocabulary:\n",
    "    words.append(i)\n",
    "    freq.append(vocabulary[i])"
   ]
  },
  {
   "cell_type": "code",
   "execution_count": 13,
   "metadata": {},
   "outputs": [],
   "source": [
    "# sorting the words and frequencies simultaneously on the basis of decreasing order of frequencies\n",
    "freq, words = [list(t) for t in zip(*sorted((zip(freq, words)), reverse = True))]"
   ]
  },
  {
   "cell_type": "code",
   "execution_count": 14,
   "metadata": {},
   "outputs": [],
   "source": [
    "# x_axis represents the number of words\n",
    "# y_axis represents the frequency of words\n",
    "x_axis = []\n",
    "y_axis = []\n",
    "for f in sorted(np.unique(freq), reverse = True):\n",
    "    y_axis.append(f)\n",
    "    x_axis.append(freq.count(f))"
   ]
  },
  {
   "cell_type": "code",
   "execution_count": 15,
   "metadata": {},
   "outputs": [
    {
     "data": {
      "image/png": "[encoded data removed]",
      "text/plain": [
       "<Figure size 432x288 with 1 Axes>"
      ]
     },
     "metadata": {
      "needs_background": "light"
     },
     "output_type": "display_data"
    }
   ],
   "source": [
    "plt.axis([0, 1000, 0, 1200])\n",
    "plt.xlabel('Number of words')\n",
    "plt.ylabel('Frequency of words')\n",
    "plt.plot(x_axis, y_axis)\n",
    "plt.show()"
   ]
  },
  {
   "cell_type": "code",
   "execution_count": 16,
   "metadata": {},
   "outputs": [
    {
     "name": "stdout",
     "output_type": "stream",
     "text": [
      "['edu', 'ax', 'cmu', 'com', 'cs', 's', 'apr', 't', 'news', 'srv', 'cantaloupe', 'net', 'm', 'message', 'subject', 'lines', 'date', 'c', 'newsgroups', 'path', 'organization', 'x', 're', 'state', 'gmt', 'd', 'ohio', 'writes', 'r', 'article', 'comp', 'references', 'b', 'talk', 'misc', 'u', 'ca', 'w', 'f', 'q', 'g', 'ans', 'p', 'sender', 'howland', 'reston', 'v', 'don', 'e', 'people', 'like', 'university', 'just', 'posting', 'nntp', 'cc', 'o', 'mps', 'know', 'may', 'host', 'sci', 'get', 'zaphod', 'usenet', 'think', 'alt', 'n', 'politics', 'k', 'windows', 'l', 'also', 'time', 'eng', 'harvard', 'rutgers', 'new', 'use', 'near', 'rec', 'us', 'good', 'system', 'sei', 'crabapple', 'h', 'noc', 'j', 'max', 'xref', 'das', 'soc', 'now', 'cis', 'even', 'see', 'z', 'god', 'europa', 'gtefsd', 'ece', 'fs', 'uk', 'uunet', 'world', 'religion', 'way', 'make', 'org', 'say', 'gov', 'much', 'many', 'christian', 'first', 'right', 'de', 've', 'rochester', 'distribution', 'ac', 'hp', 'mail', 'club', 'sun', 'space', 'ibm', 'utexas', 'andrew', 'want', 'magnesium', 'gatech', 'go', 'anyone', 'used', 'reply', 'said', 'udel', 'sys', 'culture', 'need', 'nasa', 'really', 'work', 'uiuc', 'y', 'something', 'computer', 'please', 'believe', 'graphics', 'problem', 'ms', 'since', 'pc', 'sura', 'back', 'mac', 'os', 'still', 'hardware', 'netcom', 'usa', 'll', 'years', 'information', 'government', 'going', 'help', 'point', 'find', 'take', 'file', 'question', 'year', 'better', 'might', 'au', 'last', 'using', 'things', 'never', 'thanks', 'read', 'software', 'david', 'bit', 'must', 'etc', 'without', 'cso', 'forsale', 'usc', 'made', 'mit', 'another', 'sure', 'uucp', 'access', 'number', 'data', 'bb', 'someone', 'look', 'thing', 'part', 'doesn', 'case', 'let', 'got', 'co', 'program', 'version', 'long', 'cwru', 'fact', 'available', 'law', 'science', 'apple', 'day', 'guns', 'columbia', 'atheism', 'drive', 'little', 'john', 'come', 'anything', 'power', 'around', 'mr', 'however', 'give', 'dos', 'car', 'sport', 'different', 'best', 'seems', 'every', 'public', 'tue', 'darwin', 'true', 'research', 'probably', 'fri', 'didn', 'key', 'group', 'least', 'real', 'life', 'line', 'course', 'actually', 'washington', 'great', 'att', 'game', 'lot', 'set', 'put', 'man', 'try', 'systems', 'support', 'name', 'image', 'tell', 'jesus', 'run', 'enough', 'inc', 'post', 'next', 'list', 'far', 'pl', 'bill', 'free', 'high', 'either', 'mean', 'though', 'second', 'internet', 'called', 'autos', 'nothing', 'else', 'says', 'old', 'end', 'possible', 'stanford', 'rather', 'wrong', 'call', 'pitt', 'non', 'hard', 'unix', 'turkish', 'card', 'reason', 'gun', 'mark', 'yes', 'ins', 'network', 'email', 'general', 'thu', 'uwm', 'acs', 'hockey', 'baseball', 'athos', 'order', 'jewish', 'others', 'israel', 'keep', 'person', 'looking', 'american', 'st', 'security', 'med', 'maybe', 'agate', 'umd', 'based', 'send', 'mon', 'seen', 'files', 'center', 'yet', 'human', 'technology', 'place', 'control', 'bad', 'info', 'ever', 'able', 'quite', 'problems', 'following', 'virginia', 'found', 'done', 'always', 'example', 'team', 'mideast', 'heard', 'isn', 'thought', 'jews', 'book', 'colorado', 'purdue', 'evidence', 'mb', 'sgi', 'means', 'wrote', 'whether', 'crypt', 'ftp', 'berkeley', 'michael', 'president', 'phone', 'less', 'questions', 'window', 'user', 'opinions', 'electronics', 'children', 'trying', 'chip', 'idea', 'given', 'today', 'several', 'se', 'away', 'left', 'steve', 'times', 'haven', 'jpl', 'rights', 'start', 'big', 'fi', 'geneva', 'national', 'paul', 'kind', 'getting', 'word', 'seem', 'keywords', 'won', 'win', 'code', 'price', 'change', 'note', 'home', 'wupost', 'mike', 'wanted', 'fbi', 'history', 'followup', 'makes', 'service', 'remember', 'digex', 'clipper', 'source', 'standard', 'full', 'department', 'money', 'perhaps', 'men', 'ask', 'jim', 'institute', 'toronto', 'frank', 'war', 'saying', 'large', 'ucs', 'server', 'fax', 'games', 'answer', 'stuff', 'small', 'already', 'local', 'caltech', 'sdd', 'states', 'scsi', 'open', 'video', 'abortion', 'interested', 'indiana', 'bogus', 'days', 'sale', 'mil', 'buy', 'address', 'matter', 'claim', 'th', 'motorcycles', 'issue', 'clinton', 'pretty', 'original', 'approved', 'ago', 'show', 'magnus', 'speed', 'running', 'ed', 'color', 'agree', 'came', 'bible', 'stratus', 'works', 'math', 'earth', 'play', 'canada', 'care', 'sol', 'fire', 'important', 'legal', 'hope', 'disk', 'type', 'told', 'house', 'ma', 'feel', 'cb', 'often', 'live', 'box', 'everyone', 'robert', 'whole', 'understand', 'oh', 'programs', 'college', 'machine', 'love', 'simply', 'engineering', 'current', 'hand', 'church', 'including', 'mind', 'netnews', 'truth', 'side', 'caen', 'memory', 'certainly', 'eff', 'buffalo', 'almost', 'everything', 'instead', 'black', 'christians', 'area', 'dept', 'armenian', 'april', 'encryption', 'christ', 'wouldn', 'include', 'guess', 'white', 'went', 'working', 'although', 'school', 'display', 'cause', 'value', 'soviet', 'text', 'cornell', 'making', 'tm', 'started', 'company', 'faq', 'computers', 'newsreader', 'later', 'brian', 'ok', 'check', 'health', 'na', 'death', 'db', 'private', 'country', 'bob', 'igor', 'unless', 'pay', 'comes', 'hi', 'cost', 'oz', 'low', 'view', 'anyway', 'california', 'nl', 'ctr', 'words', 'bnr', 'pa', 'major', 'sense', 'sandvik', 'package', 'wisc', 'opinion', 'tried', 'pacific', 'consider', 'copy', 'vs', 'within', 'austin', 'society', 'single', 'feed', 'sort', 'james', 'dec', 'correct', 'press', 'known', 'difference', 'contact', 'sat', 'certain', 'body', 'write', 'faith', 'san', 'deal', 'dave', 'clear', 'privacy', 'light', 'freenet', 'ap', 'bitnet', 'likely', 'force', 'di', 'anybody', 'via', 'political', 'night', 'nice', 'koresh', 'pub', 'israeli', 'hedrick', 'religious', 'summary', 'aramis', 'similar', 'peter', 'groups', 'ecn', 'radio', 'uni', 'tin', 'police', 'women', 'especially', 'ucsd', 'top', 'provide', 'couple', 'stop', 'morality', 'ux', 'simple', 'sex', 'emory', 'al', 'tu', 'talking', 'dead', 'size', 'situation', 'east', 'objective', 'discussion', 'services', 'cd', 'arizona', 'common', 'statement', 'cleveland', 'written', 'thus', 'per', 'york', 'level', 'asked', 'mu', 'exactly', 'city', 'books', 'monitor', 'peace', 'images', 'killed', 'third', 'answers', 'whatever', 'saw', 'moral', 'sound', 'screen', 'self', 'sni', 'sorry', 'blue', 'business', 'become', 'manager', 'board', 'iastate', 'happened', 'except', 'argument', 'took', 'ei', 'guy', 'early', 'test', 'position', 'mchp', 'fast', 'goes', 'usually', 'upon', 'red', 'mot', 'format', 'armenians', 'among', 'ai', 'form', 'ii', 'fan', 'driver', 'past', 'elroy', 'ch', 'yale', 'rest', 'du', 'vax', 'transfer', 'reading', 'account', 'swrinde', 'mouse', 'ti', 'motif', 'microsoft', 'astro', 'taken', 'bike', 'laws', 'fine', 'ee', 'hit', 'ames', 'experience', 'easy', 'dr', 'corp', 'players', 'personal', 'air', 'due', 'users', 'turn', 'request', 'physics', 'study', 'head', 'csd', 'advance', 'scott', 'peachnet', 'special', 'western', 'week', 'po', 'application', 'according', 'interesting', 'hear', 'vms', 'posted', 'ones', 'needed', 'future', 'dod', 'theory', 'mine', 'corporation', 'happen', 'disclaimer', 'accept', 'short', 'add', 'young', 'umn', 'needs', 'upenn', 'exist', 'effect', 'keys', 'bc', 'ksu', 'isc', 'points', 'numbers', 'thomas', 'mode', 'therefore', 'ogicse', 'lost', 'texas', 'specific', 'series', 'project', 'particular', 'cup', 'convex', 'uses', 'office', 'months', 'media', 'la', 'model', 'united', 'uci', 'gas', 'mhz', 'front', 'bu', 'period', 'plus', 'members', 'division', 'smith', 'job', 'face', 'anti', 'wasn', 'medical', 'ground', 'gets', 'germany', 'considered', 'tv', 'expect', 'bus', 'tom', 'sell', 'recently', 'greek', 'ray', 'longer', 'food', 'season', 'duke', 'performance', 'offer', 'ufl', 'kent', 'nz', 'ns', 'cars', 'bbs', 'anonymous', 'policy', 'land', 'kill', 'drivers', 'aren', 'worth', 'pipex', 'rd', 'insurance', 'federal', 'million', 'taking', 'sometimes', 'process', 'military', 'keith', 'eric', 'coming', 'weapons', 'speak', 'move', 'various', 'pat', 'george', 'voice', 'output', 'nd', 'navy', 'jpeg', 'chris', 'communications', 'involved', 'international', 'built', 'lord', 'response', 'shall', 'richard', 'freedom', 'save', 'environment', 'king', 'runs', 'outside', 'higher', 'army', 'result', 'optilink', 'friend', 'bear', 'act', 'strong', 'results', 'behind', 'uknet', 'child', 'total', 'ny', 'horus', 'thinking', 'sources', 'values', 'error', 'quality', 'return', 'related', 'action', 'wants', 'christianity', 'ab', 'aa', 'road', 'necessary', 'jhu', 'story', 'field', 'comments', 'previous', 'design', 'computing', 'cases', 'tech', 'assume', 'willing', 'doubt', 'ubc', 'newsserver', 'includes', 'batf', 'demon', 'ra', 'site', 'water', 'reference', 'dan', 'close', 'present', 'md', 'knowledge', 'follow', 'allow', 'pittsburgh', 'issues', 'hold', 'complete', 'asking', 'along', 'crime', 'report', 'lab', 'build', 'looks', 'together', 'term', 'ideas', 'applications', 'uchicago', 'player', 'soon', 'explain', 'couldn', 'ram', 'building', 'west', 'decwrl', 'cut', 'arms', 'sent', 'genocide', 'appreciated', 'programmer', 'mentioned']\n"
     ]
    }
   ],
   "source": [
    "# n represents the number of words to be used as features\n",
    "n = 1000\n",
    "features = words[0: n]\n",
    "print(features)"
   ]
  },
  {
   "cell_type": "markdown",
   "metadata": {},
   "source": [
    "# inbuilt sklearn.naive_bayes.MultinomialNB algorithm"
   ]
  },
  {
   "cell_type": "code",
   "execution_count": 17,
   "metadata": {},
   "outputs": [
    {
     "data": {
      "text/plain": [
       "14997"
      ]
     },
     "execution_count": 17,
     "metadata": {},
     "output_type": "execute_result"
    }
   ],
   "source": [
    "# making a two - dimensional array for x_train as x_new_train having the\n",
    "#frequency of each word in the feature set for all x_train data\n",
    "x_new_train = []\n",
    "for x in x_train:\n",
    "    splitted_x = \"\".join((char.lower() if char.isalpha() else \" \") for char in x).split()\n",
    "    x_row = []\n",
    "    for f in features:\n",
    "        if f in splitted_x:\n",
    "            x_row.append(splitted_x.count(f))\n",
    "        else:\n",
    "            x_row.append(0)\n",
    "    x_new_train.append(x_row)\n",
    "len(x_new_train)"
   ]
  },
  {
   "cell_type": "code",
   "execution_count": 18,
   "metadata": {},
   "outputs": [
    {
     "data": {
      "text/plain": [
       "5000"
      ]
     },
     "execution_count": 18,
     "metadata": {},
     "output_type": "execute_result"
    }
   ],
   "source": [
    "# making a two - dimensional array for x_test as x_new_test having the\n",
    "#frequency of each word in the feature set for all x_test data\n",
    "x_new_test = []\n",
    "for x in x_test:\n",
    "    splitted_x = \"\".join((char.lower() if char.isalpha() else \" \") for char in x).split()\n",
    "    x_row = []\n",
    "    for f in features:\n",
    "        if f in splitted_x:\n",
    "            x_row.append(splitted_x.count(f))\n",
    "        else:\n",
    "            x_row.append(0)\n",
    "    x_new_test.append(x_row)\n",
    "len(x_new_test)"
   ]
  },
  {
   "cell_type": "code",
   "execution_count": 21,
   "metadata": {},
   "outputs": [
    {
     "name": "stdout",
     "output_type": "stream",
     "text": [
      "Score:   0.8108\n",
      "\n",
      "[[189   0   0   1   0   0   1   0   2   1   1   1   0   1   2   1   1   2\n",
      "    0  46]\n",
      " [  0 169   2  18   9  11  12   4   3   1   0   0   9   2   1   0   1   0\n",
      "    0   0]\n",
      " [  0  31   5 116  11  64   7   0   0   0   0   1   5   1   0   0   0   0\n",
      "    0   0]\n",
      " [  0   4   0 227  14   3   1   1   0   0   0   0   2   0   0   0   0   0\n",
      "    0   0]\n",
      " [  0   2   0  28 217   0   5   0   0   0   0   0   4   1   0   0   0   0\n",
      "    0   0]\n",
      " [  0  30   1  11   5 204   6   0   0   0   0   2   4   0   2   0   0   1\n",
      "    0   0]\n",
      " [  0   1   0   6   2   0 210   2   0   0   1   0   5   1   0   0   0   0\n",
      "    1   0]\n",
      " [  0   0   0   1   0   0   8 207  10   0   0   0   1   1   0   0   0   0\n",
      "    0   0]\n",
      " [  0   0   0   0   0   0   8   4 254   1   1   0   0   0   1   0   0   0\n",
      "    0   0]\n",
      " [  0   0   0   0   0   0   2   2   4 224  13   0   0   0   0   0   1   0\n",
      "    0   0]\n",
      " [  0   0   0   0   0   0   2   1   5   9 229   0   0   0   1   0   0   0\n",
      "    0   0]\n",
      " [  0   4   0   0   0   0   0   0   0   0   0 234   4   2   0   0   3   0\n",
      "    1   0]\n",
      " [  0   0   0   6   4   2   3  10   3   0   0   0 238   8   5   0   0   1\n",
      "    0   0]\n",
      " [  0   1   0   1   1   1   1   2   2   2   1   0   7 200   4   0   0   0\n",
      "    0   0]\n",
      " [  0   3   0   0   1   0   2   1   0   0   0   1  12   1 219   0   1   0\n",
      "    1   0]\n",
      " [  0   0   0   0   0   0   0   0   0   0   0   0   0   0   0 259   0   0\n",
      "    0   0]\n",
      " [  0   0   0   1   0   0   0   0   6   1   1   0   0   0   2   0 223   2\n",
      "    8   7]\n",
      " [  0   0   0   0   0   0   1   3   0   1   3   1   1   1   3   0   3 216\n",
      "   17   1]\n",
      " [  0   0   0   0   0   0   2   0   0   0   0   3   0   2   2   1  44   9\n",
      "  172  21]\n",
      " [ 60   0   0   0   0   0   1   0   0   0   0   0   1   3   0   5  10   1\n",
      "   25 158]]\n"
     ]
    }
   ],
   "source": [
    "# fitting the training data and predicting the testing data using inbuilt MultinomialNB classifier\n",
    "clf = MultinomialNB()\n",
    "clf.fit(x_new_train, y_train)\n",
    "print(\"Score:  \",clf.score(x_new_test, y_test))\n",
    "y_pred = clf.predict(x_new_test)\n",
    "cm = confusion_matrix(y_test, y_pred)\n",
    "print()\n",
    "print(cm)"
   ]
  },
  {
   "cell_type": "markdown",
   "metadata": {},
   "source": [
    "# My Implementation of Multinomial Naive Bayes Algorithm"
   ]
  },
  {
   "cell_type": "code",
   "execution_count": 23,
   "metadata": {},
   "outputs": [],
   "source": [
    "# fit function to create a dictionary of training data\n",
    "def fit(x_train, y_train):\n",
    "    result = {}\n",
    "    result['total_data'] = len(y_train)\n",
    "    classes = set(y_train)\n",
    "    for current_class in classes:\n",
    "        result[current_class] = {}\n",
    "        current_class_rows = (y_train == current_class)\n",
    "        x_train_current = x_train[current_class_rows]\n",
    "        y_train_current = y_train[current_class_rows]\n",
    "        result[current_class]['total_count'] = len(y_train_current)\n",
    "        result[current_class]['total_words'] = x_train_current.sum()\n",
    "        num_features = len(features)\n",
    "        for n in range(num_features):\n",
    "            result[current_class][features[n]] = x_train_current[:, n].sum()\n",
    "    return result"
   ]
  },
  {
   "cell_type": "code",
   "execution_count": 24,
   "metadata": {},
   "outputs": [],
   "source": [
    "# probability function for calculating the log probability of each document in x_test for a particular class\n",
    "def probability(dictionary, x, current_class):\n",
    "    output = np.log(dictionary[current_class]['total_count']) - np.log(dictionary['total_data'])\n",
    "    num_features = len(x)\n",
    "    for n in range(num_features):\n",
    "        num = dictionary[current_class][x[n]] + 1\n",
    "        den = dictionary[current_class]['total_words'] + len(features)\n",
    "        output += np.log(num) - np.log(den)\n",
    "    return output"
   ]
  },
  {
   "cell_type": "code",
   "execution_count": 25,
   "metadata": {},
   "outputs": [],
   "source": [
    "# predictSinglePoint function for predicting the class for each document in x_test with all classes\n",
    "# and returning the best class for that document \n",
    "def predictSinglePoint(dictionary, x):\n",
    "    classes = dictionary.keys()\n",
    "    best_p = -1000000000\n",
    "    best_class = -1\n",
    "    for current_class in classes:\n",
    "        if current_class == 'total_data':\n",
    "            continue\n",
    "        p_current_class = probability(dictionary, x, current_class)\n",
    "        if p_current_class > best_p:\n",
    "            best_p = p_current_class\n",
    "            best_class = current_class\n",
    "    return best_class"
   ]
  },
  {
   "cell_type": "code",
   "execution_count": 26,
   "metadata": {},
   "outputs": [],
   "source": [
    "# predict function for predicting classes for all document in x_test\n",
    "def predict(dictionary, x_test):\n",
    "    y_pred = []\n",
    "    for x in x_test:\n",
    "        x_class = predictSinglePoint(dictionary, x)\n",
    "        y_pred.append(x_class)\n",
    "    return y_pred"
   ]
  },
  {
   "cell_type": "code",
   "execution_count": 27,
   "metadata": {},
   "outputs": [],
   "source": [
    "# converting the x_new_train into numpy array and \n",
    "# calling the fit function that will return the required dictionary\n",
    "x_train = np.array(x_new_train)\n",
    "dictionary = fit(x_train, y_train)"
   ]
  },
  {
   "cell_type": "code",
   "execution_count": 28,
   "metadata": {},
   "outputs": [],
   "source": [
    "# making a two-dimensional array of words in each documnet in x_test that are also in feature set\n",
    "x_new_test = []\n",
    "for x in x_test:\n",
    "    splitted_x = \"\".join((char.lower() if char.isalpha() else \" \") for char in x).split()\n",
    "    x_row = []\n",
    "    for f in features:\n",
    "        if f in splitted_x and f not in x_row:\n",
    "            x_row.append(f)\n",
    "    x_new_test.append(x_row)"
   ]
  },
  {
   "cell_type": "code",
   "execution_count": 29,
   "metadata": {},
   "outputs": [],
   "source": [
    "# calling the predict function that will predict classes for each document in x_new_test \n",
    "y_pred = predict(dictionary, x_new_test)"
   ]
  },
  {
   "cell_type": "code",
   "execution_count": 30,
   "metadata": {},
   "outputs": [
    {
     "data": {
      "text/plain": [
       "0.828"
      ]
     },
     "execution_count": 30,
     "metadata": {},
     "output_type": "execute_result"
    }
   ],
   "source": [
    "accuracy_score(y_test, y_pred)"
   ]
  },
  {
   "cell_type": "code",
   "execution_count": 31,
   "metadata": {},
   "outputs": [
    {
     "name": "stdout",
     "output_type": "stream",
     "text": [
      "\n",
      "[[203   0   0   0   0   0   1   0   3   0   0   1   0   2   0   1   0   2\n",
      "    1  35]\n",
      " [  0 179   0  21   7   5   7   1   2   0   0   0  19   1   0   0   0   0\n",
      "    0   0]\n",
      " [  0  41   3 133   7  30   5   0   0   0   0   2  17   0   0   0   0   0\n",
      "    3   0]\n",
      " [  0   2   0 240   6   0   1   0   0   0   0   0   2   1   0   0   0   0\n",
      "    0   0]\n",
      " [  0   0   0  19 235   0   2   0   0   0   0   0   1   0   0   0   0   0\n",
      "    0   0]\n",
      " [  0  47   0  23   8 171   5   0   1   0   0   1   8   2   0   0   0   0\n",
      "    0   0]\n",
      " [  0   2   0   6   2   0 208   4   1   0   0   0   3   1   1   0   0   0\n",
      "    1   0]\n",
      " [  0   0   0   0   0   0   6 215   4   0   0   0   3   0   0   0   0   0\n",
      "    0   0]\n",
      " [  0   0   0   0   0   0   5   4 259   0   0   0   0   1   0   0   0   0\n",
      "    0   0]\n",
      " [  0   0   0   0   0   0   2   0   1 232  11   0   0   0   0   0   0   0\n",
      "    0   0]\n",
      " [  0   0   0   0   0   0   1   0   0   8 237   0   0   0   1   0   0   0\n",
      "    0   0]\n",
      " [  0   4   0   0   0   0   0   0   0   0   0 232   6   3   0   0   3   0\n",
      "    0   0]\n",
      " [  0   0   0   0   0   0   2   0   0   0   0   0 269   8   1   0   0   0\n",
      "    0   0]\n",
      " [  0   4   0   0   0   0   0   0   0   0   0   0   5 211   3   0   0   0\n",
      "    0   0]\n",
      " [  0   3   0   0   0   0   2   0   0   1   0   1  10   7 216   0   0   0\n",
      "    2   0]\n",
      " [  0   0   0   0   0   0   0   0   0   0   0   0   0   0   0 259   0   0\n",
      "    0   0]\n",
      " [  0   0   0   0   0   0   0   0   1   0   0   0   0   0   3   0 228   2\n",
      "   13   4]\n",
      " [  0   0   0   0   0   0   1   1   1   0   0   1   0   1   2   0   6 224\n",
      "   13   1]\n",
      " [  0   0   0   0   0   0   1   0   0   0   0   2   0   1   1   0  48   8\n",
      "  183  12]\n",
      " [ 71   0   0   0   0   0   1   0   0   0   0   0   5   0   1   4  12   1\n",
      "   33 136]]\n"
     ]
    }
   ],
   "source": [
    "cm = confusion_matrix(y_test, y_pred)\n",
    "print()\n",
    "print(cm)"
   ]
  }
 ],
 "metadata": {
  "kernelspec": {
   "display_name": "Python 3",
   "language": "python",
   "name": "python3"
  },
  "language_info": {
   "codemirror_mode": {
    "name": "ipython",
    "version": 3
   },
   "file_extension": ".py",
   "mimetype": "text/x-python",
   "name": "python",
   "nbconvert_exporter": "python",
   "pygments_lexer": "ipython3",
   "version": "3.8.3"
  }
 },
 "nbformat": 4,
 "nbformat_minor": 2
}
